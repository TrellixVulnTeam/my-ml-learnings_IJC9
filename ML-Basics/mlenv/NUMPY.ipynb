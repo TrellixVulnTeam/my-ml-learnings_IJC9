{
 "cells": [
  {
   "cell_type": "code",
   "execution_count": 1,
   "id": "98653885",
   "metadata": {},
   "outputs": [
    {
     "name": "stdout",
     "output_type": "stream",
     "text": [
      "Collecting numpy\n",
      "  Downloading numpy-1.21.1-cp39-cp39-macosx_10_9_x86_64.whl (17.0 MB)\n",
      "\u001b[K     |████████████████████████████████| 17.0 MB 5.1 MB/s eta 0:00:01    |█████████                       | 4.8 MB 2.9 MB/s eta 0:00:05\n",
      "\u001b[?25hInstalling collected packages: numpy\n",
      "Successfully installed numpy-1.21.1\n",
      "\u001b[33mWARNING: You are using pip version 21.1.3; however, version 21.2.4 is available.\n",
      "You should consider upgrading via the '/Users/zopper/Desktop/Python/ML-Basics/mlenv/bin/python3 -m pip install --upgrade pip' command.\u001b[0m\n"
     ]
    }
   ],
   "source": [
    "! pip install numpy\n"
   ]
  },
  {
   "cell_type": "code",
   "execution_count": 5,
   "id": "c1c161d0",
   "metadata": {},
   "outputs": [
    {
     "name": "stdout",
     "output_type": "stream",
     "text": [
      "[1 2 3 4 5]\n",
      "<class 'numpy.ndarray'>\n",
      "(5,)\n",
      "[[1 2]\n",
      " [2 6]\n",
      " [3 4]\n",
      " [4 5]\n",
      " [0 5]]\n",
      "<class 'numpy.ndarray'>\n",
      "(5, 2)\n"
     ]
    }
   ],
   "source": [
    "import numpy as np\n",
    "\n",
    "a = np.array([1,2,3,4,5])\n",
    "print(a)\n",
    "print(type(a))\n",
    "\n",
    "# tells the dimension of the numpy array\n",
    "print(a.shape)\n",
    "\n"
   ]
  },
  {
   "cell_type": "markdown",
   "id": "bbe1573b",
   "metadata": {},
   "source": [
    "# 2D ARRAY\n"
   ]
  },
  {
   "cell_type": "code",
   "execution_count": 6,
   "id": "eaa78248",
   "metadata": {},
   "outputs": [
    {
     "name": "stdout",
     "output_type": "stream",
     "text": [
      "[[1 2]\n",
      " [2 6]\n",
      " [3 4]\n",
      " [4 5]\n",
      " [0 5]]\n",
      "<class 'numpy.ndarray'>\n",
      "(5, 2)\n",
      "6\n"
     ]
    }
   ],
   "source": [
    "b = np.array([[1,2],[2,6],[3,4],[4,5],[0,5]])\n",
    "print(b)\n",
    "print(type(b))\n",
    "print(b.shape)\n",
    "print(b[1][1])"
   ]
  },
  {
   "cell_type": "markdown",
   "id": "3da55f08",
   "metadata": {},
   "source": [
    "# Creating Custom Arrays\n",
    "## 1. ZERO ARRAY\n",
    "### np.zeros((no_of_rows,no_of_columns))\n",
    "\n",
    "## 2. ONES ARRAY\n",
    "### np.ones((no_of_rows,no_of_columns))\n",
    "\n",
    "## 3. CONSTANT NUMBER ARRAY\n",
    "### np.full((no_of_rows,no_of_columns),number)\n",
    "\n",
    "## 4. IDENTITY MATRIX\n",
    "### np.eye(size)\n",
    "\n",
    "## 5. RANDOM MATRIX\n",
    "### np.random.random((no_of_rows,no_of_columns))"
   ]
  },
  {
   "cell_type": "code",
   "execution_count": 27,
   "id": "aa8e52ed",
   "metadata": {},
   "outputs": [
    {
     "name": "stdout",
     "output_type": "stream",
     "text": [
      "[[0.19450727 0.39270512 0.30917958]\n",
      " [0.59703119 0.71306419 0.26600976]]\n",
      "####################################################################################################\n",
      "[0.19450727 0.59703119]\n"
     ]
    }
   ],
   "source": [
    "# ZERO ARRAY\n",
    "# print(np.zeros((3,3)))\n",
    "\n",
    "# print(np.ones((3,3)))\n",
    "\n",
    "# randomMatrix = np.random.random((2,3))\n",
    "print(randomMatrix)\n",
    "print(\"#\"*100)\n",
    "print(randomMatrix[ : ,0])"
   ]
  },
  {
   "cell_type": "markdown",
   "id": "513aabd7",
   "metadata": {},
   "source": [
    "# MATHEMATICAL OPERATIONS ON MATRICES\n"
   ]
  },
  {
   "cell_type": "code",
   "execution_count": 29,
   "id": "cdaea97b",
   "metadata": {},
   "outputs": [
    {
     "name": "stdout",
     "output_type": "stream",
     "text": [
      "[[2 4]\n",
      " [4 8]]\n",
      "[[2 4]\n",
      " [4 8]]\n"
     ]
    }
   ],
   "source": [
    "# ADDITION\n",
    "a = np.array([[1,2],[2,4]])\n",
    "b = np.array([[1,2],[2,4]])\n",
    "print(a+b)\n",
    "print(np.add(a,b))"
   ]
  },
  {
   "cell_type": "code",
   "execution_count": 30,
   "id": "fd8afc75",
   "metadata": {},
   "outputs": [
    {
     "name": "stdout",
     "output_type": "stream",
     "text": [
      "[[0 0]\n",
      " [0 0]]\n",
      "[[0 0]\n",
      " [0 0]]\n"
     ]
    }
   ],
   "source": [
    "# SUBTRACTION\n",
    "a = np.array([[1,2],[2,4]])\n",
    "b = np.array([[1,2],[2,4]])\n",
    "print(a-b)\n",
    "print(np.subtract(a,b))"
   ]
  },
  {
   "cell_type": "code",
   "execution_count": 31,
   "id": "86064d06",
   "metadata": {},
   "outputs": [
    {
     "name": "stdout",
     "output_type": "stream",
     "text": [
      "[[ 1  4]\n",
      " [ 4 16]]\n",
      "[[ 1  4]\n",
      " [ 4 16]]\n"
     ]
    }
   ],
   "source": [
    "# MULTIPLICATION\n",
    "a = np.array([[1,2],[2,4]])\n",
    "b = np.array([[1,2],[2,4]])\n",
    "print(a*b)\n",
    "print(np.multiply(a,b))"
   ]
  },
  {
   "cell_type": "code",
   "execution_count": 33,
   "id": "5059354e",
   "metadata": {},
   "outputs": [
    {
     "name": "stdout",
     "output_type": "stream",
     "text": [
      "[[1 1]\n",
      " [1 1]]\n",
      "[[1. 1.]\n",
      " [1. 1.]]\n"
     ]
    }
   ],
   "source": [
    "# DIVISION\n",
    "a = np.array([[1,2],[2,4]])\n",
    "b = np.array([[1,2],[2,4]])\n",
    "print(a//b)\n",
    "print(np.divide(a,b))"
   ]
  },
  {
   "cell_type": "code",
   "execution_count": 35,
   "id": "28ee75b9",
   "metadata": {},
   "outputs": [
    {
     "name": "stdout",
     "output_type": "stream",
     "text": [
      "[[1.         1.41421356]\n",
      " [1.41421356 2.        ]]\n"
     ]
    }
   ],
   "source": [
    "# SQUARE ROOT\n",
    "a = np.array([[1,2],[2,4]])\n",
    "b = np.array([[1,2],[2,4]])\n",
    "print(np.sqrt(a))"
   ]
  },
  {
   "cell_type": "markdown",
   "id": "b3bb92f0",
   "metadata": {},
   "source": [
    "# DOT PRODUCT"
   ]
  },
  {
   "cell_type": "code",
   "execution_count": 36,
   "id": "3c6ed385",
   "metadata": {},
   "outputs": [
    {
     "name": "stdout",
     "output_type": "stream",
     "text": [
      "[[ 5 10]\n",
      " [10 20]]\n",
      "[[ 5 10]\n",
      " [10 20]]\n"
     ]
    }
   ],
   "source": [
    "# DOT PRODUCT\n",
    "a = np.array([[1,2],[2,4]])\n",
    "b = np.array([[1,2],[2,4]])\n",
    "print(np.dot(a,b))\n",
    "print(a.dot(b))"
   ]
  },
  {
   "cell_type": "markdown",
   "id": "2aa5c607",
   "metadata": {},
   "source": [
    "# SUM FUNCTION\n",
    "## np.sum((matrix),axis=0) axis = 0 (columnwise add)\n",
    "##                                           axis =1 (rowwise)"
   ]
  },
  {
   "cell_type": "code",
   "execution_count": 37,
   "id": "e27aa826",
   "metadata": {},
   "outputs": [
    {
     "name": "stdout",
     "output_type": "stream",
     "text": [
      "[3 6]\n"
     ]
    }
   ],
   "source": [
    "a = np.array([[1,2],[2,4]])\n",
    "print(np.sum(a,axis=1))"
   ]
  },
  {
   "cell_type": "markdown",
   "id": "3fc908c5",
   "metadata": {},
   "source": [
    "# Stacking of Arrays\n",
    "## np.stack((array1,array2),axis = 0,1)"
   ]
  },
  {
   "cell_type": "code",
   "execution_count": 47,
   "id": "c202be44",
   "metadata": {},
   "outputs": [
    {
     "name": "stdout",
     "output_type": "stream",
     "text": [
      "[ 9  4 16 25 36]\n",
      "[[ 1  9]\n",
      " [23  4]\n",
      " [ 4 16]\n",
      " [ 5 25]\n",
      " [ 6 36]]\n"
     ]
    },
    {
     "data": {
      "text/plain": [
       "(5, 2)"
      ]
     },
     "execution_count": 47,
     "metadata": {},
     "output_type": "execute_result"
    }
   ],
   "source": [
    "# Stacking of Arrays\n",
    "a = np.array([1,23,4,5,6])\n",
    "b = np.array([3,2,4,5,6])\n",
    "b = b**2\n",
    "print(b)\n",
    "\n",
    "print(np.stack((a,b),axis=1))\n",
    "np.stack((a,b),axis=1).shape\n"
   ]
  },
  {
   "cell_type": "markdown",
   "id": "05170448",
   "metadata": {},
   "source": [
    "# RESHAPING NP ARRAY\n",
    "## np.reshape((rowxcolumn))"
   ]
  },
  {
   "cell_type": "code",
   "execution_count": 56,
   "id": "79bcbad8",
   "metadata": {},
   "outputs": [
    {
     "name": "stdout",
     "output_type": "stream",
     "text": [
      "(3, 2)\n",
      "[[ 1]\n",
      " [ 3]\n",
      " [23]\n",
      " [ 4]\n",
      " [ 5]\n",
      " [ 6]]\n",
      "(6, 1)\n"
     ]
    }
   ],
   "source": [
    "# Reshaping np Array\n",
    "a = np.array([[1,3],[23,4],[5,6]])\n",
    "b = np.array([3,2,4,5,6])\n",
    "print(a.shape)\n",
    "a = a.reshape((6,1))\n",
    "print(a)\n",
    "print(a.shape)"
   ]
  },
  {
   "cell_type": "markdown",
   "id": "68646281",
   "metadata": {},
   "source": [
    "\n",
    "# ARRANGE FUNCTION\n",
    "## np.arrange(number of elements)"
   ]
  },
  {
   "cell_type": "code",
   "execution_count": 58,
   "id": "7f8d79b8",
   "metadata": {},
   "outputs": [
    {
     "name": "stdout",
     "output_type": "stream",
     "text": [
      "[0 1 2 3 4 5 6 7 8 9]\n"
     ]
    }
   ],
   "source": [
    "print(np.arange(10))"
   ]
  },
  {
   "cell_type": "markdown",
   "id": "46b0a277",
   "metadata": {},
   "source": [
    "# NUMPY RANDOM MODULE\n",
    "## 1. RAND: RANDOM VALUES IN A GIVEN SHAPE\n",
    "## 2. RANDN: RETURN A SAMPLE FROM THE STANDARD NORMAL DISTRIBUTION\n",
    "## 3. RANDINT : RETURN RANDOM INTS FROM LOW TO HIGH RANGE AS GIVEN\n",
    "## 4. RANDOM : RETURN RANDOM FLOATS IN HALF OPEN INTERVALS [0.0,1.0]\n",
    "## 5. CHOICE : GENERATES A RANDOM SAMPLE FROM A GIVEN 1D ARRAY\n",
    "## 6. SHUFFLE: SHUFFLES CONTENTS OF A SEQUENCE"
   ]
  },
  {
   "cell_type": "code",
   "execution_count": 67,
   "id": "9bd493dc",
   "metadata": {},
   "outputs": [
    {
     "name": "stdout",
     "output_type": "stream",
     "text": [
      "[1 3 4 6 9 5 7 2 0 8]\n"
     ]
    },
    {
     "data": {
      "text/plain": [
       "8"
      ]
     },
     "execution_count": 67,
     "metadata": {},
     "output_type": "execute_result"
    }
   ],
   "source": [
    "a = np.arange(10)\n",
    "\n",
    "\n",
    "np.random.shuffle(a)\n",
    "print(a)\n",
    "\n",
    "np.random.randn(2,3)\n",
    "\n",
    "np.random.randint(5,10,3)\n",
    "np.random.choice(a)"
   ]
  },
  {
   "cell_type": "markdown",
   "id": "f7984960",
   "metadata": {},
   "source": [
    "# STASTICAL METHODS IN NUMPY\n",
    "## 1. min,max\n",
    "## 2. mean\n",
    "## 3. median\n",
    "## 4. average,variance,standard deviation"
   ]
  },
  {
   "cell_type": "code",
   "execution_count": 72,
   "id": "7834706d",
   "metadata": {},
   "outputs": [
    {
     "name": "stdout",
     "output_type": "stream",
     "text": [
      "[[1 2 3 4]\n",
      " [6 4 3 2]]\n",
      "1\n",
      "[1 2 3 2]\n",
      "[1 2]\n",
      "6\n",
      "[6 4 3 4]\n",
      "[4 6]\n",
      "3.125\n",
      "[3.5 3.  3.  3. ]\n",
      "[2.5  3.75]\n",
      "3.0\n",
      "####################################################################################################\n",
      "3.0\n",
      "3.5\n",
      "1.4142135623730951\n",
      "2.0000000000000004\n"
     ]
    }
   ],
   "source": [
    "a = np.array([[1,2,3,4],[6,4,3,2]])\n",
    "print(a)\n",
    "print(np.min(a))\n",
    "print(np.min(a,axis = 0))\n",
    "print(np.min(a,axis = 1))\n",
    "\n",
    "print(np.max(a))\n",
    "print(np.max(a,axis = 0))\n",
    "print(np.max(a,axis = 1))\n",
    "\n",
    "\n",
    "print(np.mean(a))\n",
    "\n",
    "print(np.mean(a,axis = 0))\n",
    "print(np.mean(a,axis = 1))\n",
    "\n",
    "print(np.median(a))\n",
    "\n",
    "\n",
    "print(\"#\"*100)\n",
    "#  Standard Deviation\n",
    "print(np.std(x))\n",
    "\n",
    "#  Variance \n",
    "print(np.std(x)** 2)"
   ]
  },
  {
   "cell_type": "markdown",
   "id": "729bb13e",
   "metadata": {},
   "source": [
    "# MEAN VS AVERAGE\n",
    "## AVERAGE INCLUDES THE WEIGHTS ASSOCIATED WITH THE ARRAY"
   ]
  },
  {
   "cell_type": "code",
   "execution_count": null,
   "id": "1e0bb8c2",
   "metadata": {},
   "outputs": [],
   "source": [
    "x = np.array([1,2,3,4,5])\n",
    "w = np.array([2,3,4,5,6])\n",
    "print(np.mean(x))\n",
    "print(np.average(x,weights=w))"
   ]
  }
 ],
 "metadata": {
  "kernelspec": {
   "display_name": "Python 3 (ipykernel)",
   "language": "python",
   "name": "python3"
  },
  "language_info": {
   "codemirror_mode": {
    "name": "ipython",
    "version": 3
   },
   "file_extension": ".py",
   "mimetype": "text/x-python",
   "name": "python",
   "nbconvert_exporter": "python",
   "pygments_lexer": "ipython3",
   "version": "3.9.6"
  }
 },
 "nbformat": 4,
 "nbformat_minor": 5
}
