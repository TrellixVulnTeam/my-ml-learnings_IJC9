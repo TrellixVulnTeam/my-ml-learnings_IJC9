{
 "cells": [
  {
   "cell_type": "markdown",
   "id": "133601ce",
   "metadata": {},
   "source": [
    "## Searching Algorithms"
   ]
  },
  {
   "cell_type": "markdown",
   "id": "d3f9c4cd",
   "metadata": {},
   "source": [
    "## 1. Linear Search (o(N))\n"
   ]
  },
  {
   "cell_type": "code",
   "execution_count": 4,
   "id": "132c8e4d",
   "metadata": {},
   "outputs": [
    {
     "name": "stdout",
     "output_type": "stream",
     "text": [
      "1 2 3 54 6\n",
      "Element to be searched is: 7\n",
      "-1\n"
     ]
    }
   ],
   "source": [
    "def linearSearch(arr,x):\n",
    "    for element in arr:\n",
    "        if element == x:\n",
    "            return arr.index(element)\n",
    "    return -1\n",
    "\n",
    "arr = [int(x) for x in input().split()]\n",
    "e = int(input(\"Element to be searched is: \"))\n",
    "print(linearSearch(arr,e))"
   ]
  },
  {
   "cell_type": "markdown",
   "id": "a8d2a81e",
   "metadata": {},
   "source": [
    "## 2. Binary Search(Iterative)\n"
   ]
  },
  {
   "cell_type": "code",
   "execution_count": 25,
   "id": "2c8dbfef",
   "metadata": {},
   "outputs": [
    {
     "name": "stdout",
     "output_type": "stream",
     "text": [
      "1 2 3 6 7\n",
      "Element to be searched: 9\n"
     ]
    },
    {
     "data": {
      "text/plain": [
       "-1"
      ]
     },
     "execution_count": 25,
     "metadata": {},
     "output_type": "execute_result"
    }
   ],
   "source": [
    "def binarySearch(arr,x):\n",
    "    start = 0\n",
    "    end = len(arr) - 1    \n",
    "    while start <= end :\n",
    "        mid = (start + end) // 2\n",
    "        if arr[mid] < x:\n",
    "            start = mid + 1\n",
    "        elif arr[mid] > x:\n",
    "            end = mid - 1\n",
    "        else:\n",
    "            return mid\n",
    "    return -1\n",
    "\n",
    "arr = [int(x) for x in input().split()]\n",
    "x = int(input(\"Element to be searched: \"))\n",
    "binarySearch(arr,x)\n",
    "        "
   ]
  },
  {
   "cell_type": "markdown",
   "id": "f072a052",
   "metadata": {},
   "source": [
    "## 2. Binary Search(Recursive)"
   ]
  },
  {
   "cell_type": "code",
   "execution_count": 19,
   "id": "c9c2b0a8",
   "metadata": {},
   "outputs": [
    {
     "name": "stdout",
     "output_type": "stream",
     "text": [
      "1 2 3 5 \n",
      "Element to be searched is: 7\n",
      "-1\n"
     ]
    }
   ],
   "source": [
    "def binarySearch(arr,start,end,x):\n",
    "    if start > end:\n",
    "        return -1\n",
    "    mid = (start + end)//2\n",
    "    \n",
    "    if arr[mid] == x:\n",
    "        return mid\n",
    "    elif arr[mid] > x:\n",
    "        return binarySearch(arr,start,mid -1, x)\n",
    "    else:\n",
    "        return binarySearch(arr,mid + 1,end, x)\n",
    "\n",
    "l = [int(s) for s in input().split()]\n",
    "e = int(input(\"Element to be searched is: \"))\n",
    "print(binarySearch(arr,0,len(l) -1 ,e))\n"
   ]
  },
  {
   "cell_type": "markdown",
   "id": "6d60d164",
   "metadata": {},
   "source": [
    "## Q1. Index of first occurence(Naive)\n"
   ]
  },
  {
   "cell_type": "code",
   "execution_count": 20,
   "id": "377396e8",
   "metadata": {},
   "outputs": [
    {
     "name": "stdout",
     "output_type": "stream",
     "text": [
      "5 10 10 20 20\n",
      "Element to be searched is: 10\n",
      "1\n"
     ]
    }
   ],
   "source": [
    "def firstOccurence(arr,x):\n",
    "    for element in arr:\n",
    "        if element == x:\n",
    "            return arr.index(element)\n",
    "    return -1\n",
    "l = [int(s) for s in input().split()]\n",
    "e = int(input(\"Element to be searched is: \"))\n",
    "print(firstOccurence(l,e))"
   ]
  },
  {
   "cell_type": "markdown",
   "id": "76292978",
   "metadata": {},
   "source": [
    "## Q1. Index of first occurence(Efficient) logn"
   ]
  },
  {
   "cell_type": "code",
   "execution_count": 22,
   "id": "b324dcf8",
   "metadata": {},
   "outputs": [
    {
     "name": "stdout",
     "output_type": "stream",
     "text": [
      "5 10 10 20 20\n",
      "Element to be searched is: 20\n",
      "3\n"
     ]
    }
   ],
   "source": [
    "def firstOccurenceEfficient(arr,x):\n",
    "        start = 0\n",
    "        end = len(arr) - 1\n",
    "        while start <= end:\n",
    "            mid = (start + end)//2\n",
    "            if arr[mid] > x:\n",
    "                end = mid -1 \n",
    "            elif arr[mid] < x:\n",
    "                start = mid + 1\n",
    "            else:\n",
    "                if mid == 0 or arr[mid - 1] != arr[mid]:\n",
    "                    return mid\n",
    "                else:\n",
    "                    end = mid - 1\n",
    "        return -1\n",
    "l = [int(s) for s in input().split()]\n",
    "e = int(input(\"Element to be searched is: \"))\n",
    "print(firstOccurenceEfficient(l,e))"
   ]
  },
  {
   "cell_type": "markdown",
   "id": "652e09d0",
   "metadata": {},
   "source": [
    "## Q2. Majority Element"
   ]
  },
  {
   "cell_type": "code",
   "execution_count": 27,
   "id": "e218a5f3",
   "metadata": {},
   "outputs": [
    {
     "name": "stdout",
     "output_type": "stream",
     "text": [
      "1 3 3 1 2\n",
      "No major element\n"
     ]
    }
   ],
   "source": [
    "def findCandidate(arr):\n",
    "    max_index = 0\n",
    "    count = 1\n",
    "    for i in range(0,len(arr)):\n",
    "        if arr[max_index] == arr[i]:\n",
    "            count+=1\n",
    "        else:\n",
    "            count -= 1\n",
    "    if count == 0:\n",
    "        max_index = i\n",
    "        count = 1\n",
    "    return arr[max_index]\n",
    "\n",
    "def isMajority(arr,cand):\n",
    "    count = 0\n",
    "    for i in range(len(arr)):\n",
    "        if arr[i] == cand:\n",
    "            count += 1\n",
    "        if count > len(arr)//2:\n",
    "            return True\n",
    "        else:\n",
    "            return False\n",
    "\n",
    "def printMajority(arr):\n",
    "    cand = findCandidate(arr)\n",
    "    \n",
    "    if isMajority(arr,cand):\n",
    "        print(cand)\n",
    "    else:\n",
    "        print(\"No major element\")\n",
    "\n",
    "\n",
    "l = [int(s) for s in input().split()]\n",
    "printMajority(arr)"
   ]
  },
  {
   "cell_type": "code",
   "execution_count": null,
   "id": "c25ef793",
   "metadata": {},
   "outputs": [],
   "source": []
  }
 ],
 "metadata": {
  "kernelspec": {
   "display_name": "Python 3 (ipykernel)",
   "language": "python",
   "name": "python3"
  },
  "language_info": {
   "codemirror_mode": {
    "name": "ipython",
    "version": 3
   },
   "file_extension": ".py",
   "mimetype": "text/x-python",
   "name": "python",
   "nbconvert_exporter": "python",
   "pygments_lexer": "ipython3",
   "version": "3.9.6"
  }
 },
 "nbformat": 4,
 "nbformat_minor": 5
}
