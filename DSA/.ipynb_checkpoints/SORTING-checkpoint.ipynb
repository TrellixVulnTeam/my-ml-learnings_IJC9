{
 "cells": [
  {
   "cell_type": "markdown",
   "id": "2300f505",
   "metadata": {},
   "source": [
    "# Sorting"
   ]
  },
  {
   "cell_type": "markdown",
   "id": "26e631b3",
   "metadata": {},
   "source": [
    "   ## 1. Bubble Sort (o(n2))"
   ]
  },
  {
   "cell_type": "code",
   "execution_count": 2,
   "id": "d5079cce",
   "metadata": {},
   "outputs": [
    {
     "name": "stdout",
     "output_type": "stream",
     "text": [
      "3 5 4 1 6 2 \n",
      "[1, 2, 3, 4, 5, 6]\n"
     ]
    }
   ],
   "source": [
    "def bubbleSort(arr):\n",
    "    n = len(arr)\n",
    "    for i in range(n-1):\n",
    "        for j in range(n-i-1):\n",
    "            if arr[j] > arr[j+1]:\n",
    "                arr[j],arr[j+1] = arr[j+1],arr[j]\n",
    "    return arr\n",
    "\n",
    "arr = [int(x) for x in input().split()]\n",
    "print(bubbleSort(arr))"
   ]
  },
  {
   "cell_type": "markdown",
   "id": "b45c2356",
   "metadata": {},
   "source": [
    "## 2. Selection Sort (o(n2))\n",
    "### 1. Not stable(same values idx might change)"
   ]
  },
  {
   "cell_type": "code",
   "execution_count": 6,
   "id": "70ff192f",
   "metadata": {},
   "outputs": [
    {
     "name": "stdout",
     "output_type": "stream",
     "text": [
      "[1, 2, 3, 4, 5, 6]\n"
     ]
    }
   ],
   "source": [
    "def selectionSort(arr):\n",
    "    n = len(arr)\n",
    "    for i in range(n-1):\n",
    "        minIdx = i\n",
    "        for j in range(i + 1,n):\n",
    "            if arr[j] < arr[minIdx]:\n",
    "                minIdx = j\n",
    "        arr[minIdx], arr[i] = arr[i], arr[minIdx]\n",
    "    return arr\n",
    "print(selectionSort(arr))"
   ]
  },
  {
   "cell_type": "markdown",
   "id": "4024501a",
   "metadata": {},
   "source": [
    "## 3. Insertion Sort ( 0(n2)) \n",
    "### 1. Inplace\n",
    "### 2. Stable\n",
    "### 3. Small arrays are best for insertion sort (Tim and Intro sort)\n",
    "### 4. Best case o(n) when array is sorted"
   ]
  },
  {
   "cell_type": "code",
   "execution_count": 8,
   "id": "2aa3b356",
   "metadata": {},
   "outputs": [
    {
     "name": "stdout",
     "output_type": "stream",
     "text": [
      "[1, 2, 3, 4, 5, 6]\n"
     ]
    }
   ],
   "source": [
    "def insertionSort(arr):\n",
    "    for i in range(1,len(arr)):\n",
    "        x = arr[i]\n",
    "        j = i-1\n",
    "        while j >= 0 and x< arr[j]:\n",
    "            arr[j+1] = arr[j]\n",
    "            j = j - 1\n",
    "        arr[j+1] = x\n",
    "    return arr\n",
    "print(insertionSort(arr))"
   ]
  },
  {
   "cell_type": "code",
   "execution_count": null,
   "id": "9f3d08fa",
   "metadata": {},
   "outputs": [],
   "source": []
  }
 ],
 "metadata": {
  "kernelspec": {
   "display_name": "Python 3 (ipykernel)",
   "language": "python",
   "name": "python3"
  },
  "language_info": {
   "codemirror_mode": {
    "name": "ipython",
    "version": 3
   },
   "file_extension": ".py",
   "mimetype": "text/x-python",
   "name": "python",
   "nbconvert_exporter": "python",
   "pygments_lexer": "ipython3",
   "version": "3.9.6"
  }
 },
 "nbformat": 4,
 "nbformat_minor": 5
}
