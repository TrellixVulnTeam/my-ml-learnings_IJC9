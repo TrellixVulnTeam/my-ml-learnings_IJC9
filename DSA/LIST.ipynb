{
 "cells": [
  {
   "cell_type": "markdown",
   "id": "b53b3513",
   "metadata": {},
   "source": [
    "# PYTHON DSA \n"
   ]
  },
  {
   "cell_type": "markdown",
   "id": "7b5e27ba",
   "metadata": {},
   "source": [
    "# 1. LIST\n",
    "\n",
    "## ADVANTAGES\n",
    "### 1. Random Access\n",
    "### 2. Cache Friendly\n",
    "\n",
    "## DISADVANTAGES\n",
    "### 1. Insertion and Deletion are slow\n",
    "### 2. Search is also slow"
   ]
  },
  {
   "cell_type": "code",
   "execution_count": 14,
   "id": "f96078ff",
   "metadata": {},
   "outputs": [
    {
     "name": "stdout",
     "output_type": "stream",
     "text": [
      "[19, 14, 12, 8, 2, 5, 30, 10]\n"
     ]
    }
   ],
   "source": [
    "l = [10,30,5,2,8,12,14,19]\n",
    "sorted(l)\n",
    "l.reverse()\n",
    "print(l)"
   ]
  },
  {
   "cell_type": "markdown",
   "id": "996f756b",
   "metadata": {},
   "source": [
    "## How dynamic size works?\n",
    "### 1. Preallocate some extra space\n",
    "### 2. If full :\n",
    "###     a. Allocate a new space of larger size let 2x\n",
    "###     b. Copy old space to new and then free old space"
   ]
  },
  {
   "cell_type": "markdown",
   "id": "c5ebcfa9",
   "metadata": {},
   "source": [
    "## Input in List\n"
   ]
  },
  {
   "cell_type": "code",
   "execution_count": 15,
   "id": "a4f62726",
   "metadata": {},
   "outputs": [
    {
     "name": "stdout",
     "output_type": "stream",
     "text": [
      "1\n",
      "[1]\n"
     ]
    }
   ],
   "source": [
    "l = []\n",
    "l.append(int(input()))\n",
    "print(l)"
   ]
  },
  {
   "cell_type": "markdown",
   "id": "e0b62be9",
   "metadata": {},
   "source": [
    "## append() and pop have amortized time or avg time of o(1)"
   ]
  },
  {
   "cell_type": "markdown",
   "id": "738f4a81",
   "metadata": {},
   "source": [
    "## Q1 Avg or Mean of a list"
   ]
  },
  {
   "cell_type": "code",
   "execution_count": 18,
   "id": "0d269592",
   "metadata": {},
   "outputs": [
    {
     "name": "stdout",
     "output_type": "stream",
     "text": [
      "Enter size: 5\n",
      "1\n",
      "2\n",
      "3\n",
      "4\n",
      "5\n",
      "Average is: \n",
      "3.0\n"
     ]
    }
   ],
   "source": [
    "l = []\n",
    "n = int(input(\"Enter size: \"))\n",
    "sum = 0\n",
    "for i in range(0,n):\n",
    "    l.append(int(input()))\n",
    "    sum += l[i]\n",
    "print(\"Average is: \")\n",
    "print(sum/n)\n"
   ]
  },
  {
   "cell_type": "markdown",
   "id": "d42429d5",
   "metadata": {},
   "source": [
    "## Q2. Separate even and odd elements in separate sublists"
   ]
  },
  {
   "cell_type": "code",
   "execution_count": 19,
   "id": "1bc72d42",
   "metadata": {},
   "outputs": [
    {
     "name": "stdout",
     "output_type": "stream",
     "text": [
      "Size5\n",
      "1\n",
      "2\n",
      "3\n",
      "4\n",
      "5\n",
      "[2, 4]\n",
      "[1, 3, 5]\n"
     ]
    }
   ],
   "source": [
    "l = []\n",
    "even = []\n",
    "odd = []\n",
    "n = int(input(\"Size\"))\n",
    "for i in range(0,n):\n",
    "    l.append(int(input()))\n",
    "    if l[i]%2 == 0:\n",
    "        even.append(l[i])\n",
    "    else:\n",
    "        odd.append(l[i])\n",
    "print(even)\n",
    "print(odd)\n",
    "        "
   ]
  },
  {
   "cell_type": "markdown",
   "id": "9d0337ab",
   "metadata": {},
   "source": [
    "## Q3. Largest in list"
   ]
  },
  {
   "cell_type": "code",
   "execution_count": 23,
   "id": "313cf5aa",
   "metadata": {},
   "outputs": [
    {
     "name": "stdout",
     "output_type": "stream",
     "text": [
      "Size5\n",
      "1\n",
      "2\n",
      "3\n",
      "4\n",
      "5\n",
      "5\n"
     ]
    }
   ],
   "source": [
    "l = []\n",
    "n = int(input(\"Size\"))\n",
    "for i in range(n):\n",
    "    l.append(int(input()))\n",
    "max = -1000000202\n",
    "for i in range(n):\n",
    "    if l[i] > max:\n",
    "        max = l[i]\n",
    "print(max)"
   ]
  },
  {
   "cell_type": "markdown",
   "id": "26c03915",
   "metadata": {},
   "source": [
    "## Q4. Second Largest in list"
   ]
  },
  {
   "cell_type": "code",
   "execution_count": 4,
   "id": "298d5510",
   "metadata": {},
   "outputs": [
    {
     "name": "stdout",
     "output_type": "stream",
     "text": [
      "1 2 3 4 5 6 7\n",
      "6\n"
     ]
    }
   ],
   "source": [
    "def secondLargest(arr):\n",
    "    if len(arr)<= 1:\n",
    "        return None\n",
    "    lar = arr[0]\n",
    "    slar = None\n",
    "    for x in arr[1:]:\n",
    "        if x > lar:\n",
    "            slar = lar\n",
    "            lar = x\n",
    "        elif x!=lar:\n",
    "            if slar == None or slar < x:\n",
    "                slar = x\n",
    "    return slar\n",
    "\n",
    "l = [int(x) for x in input().split()]\n",
    "print(secondLargest(l))        \n",
    "        "
   ]
  },
  {
   "cell_type": "markdown",
   "id": "4dcbe07f",
   "metadata": {},
   "source": [
    "## Q5 Check if list is sorted"
   ]
  },
  {
   "cell_type": "code",
   "execution_count": 11,
   "id": "7c73d603",
   "metadata": {},
   "outputs": [
    {
     "name": "stdout",
     "output_type": "stream",
     "text": [
      "10 5 30\n",
      "False\n"
     ]
    }
   ],
   "source": [
    "def checkSort(arr):\n",
    "    flag = False\n",
    "    if len(arr) <= 1:\n",
    "        return True\n",
    "        \n",
    "    for i in range(0,len(arr)-1):\n",
    "        if arr[i] > arr[i+1]:\n",
    "            return False\n",
    "        else:\n",
    "            flag = True\n",
    "    return flag\n",
    "\n",
    "l = [int(x) for x in input().split()]\n",
    "print(checkSort(l))\n",
    "            \n",
    "            "
   ]
  },
  {
   "cell_type": "markdown",
   "id": "24cf80b8",
   "metadata": {},
   "source": [
    "## Q6. Reverse a list"
   ]
  },
  {
   "cell_type": "code",
   "execution_count": 23,
   "id": "f8345d94",
   "metadata": {},
   "outputs": [
    {
     "name": "stdout",
     "output_type": "stream",
     "text": [
      "1 2 3\n",
      "[3, 2, 1]\n"
     ]
    }
   ],
   "source": [
    "def reverseList(arr):\n",
    "    s = 0\n",
    "    e = len(arr) - 1\n",
    "    \n",
    "    while s<e:\n",
    "        arr[s],arr[e] = arr[e],arr[s]\n",
    "        s = s + 1\n",
    "        e = e - 1\n",
    "    return arr\n",
    "l = [int(x) for x in input().split()]\n",
    "print(reverseList(l))"
   ]
  },
  {
   "cell_type": "markdown",
   "id": "eca7b61d",
   "metadata": {},
   "source": [
    "## Q7. Left rotate list by 1"
   ]
  },
  {
   "cell_type": "code",
   "execution_count": null,
   "id": "436cdf57",
   "metadata": {},
   "outputs": [],
   "source": []
  },
  {
   "cell_type": "code",
   "execution_count": null,
   "id": "c0211994",
   "metadata": {},
   "outputs": [],
   "source": []
  },
  {
   "cell_type": "code",
   "execution_count": null,
   "id": "cc97cefe",
   "metadata": {},
   "outputs": [],
   "source": []
  }
 ],
 "metadata": {
  "kernelspec": {
   "display_name": "Python 3 (ipykernel)",
   "language": "python",
   "name": "python3"
  },
  "language_info": {
   "codemirror_mode": {
    "name": "ipython",
    "version": 3
   },
   "file_extension": ".py",
   "mimetype": "text/x-python",
   "name": "python",
   "nbconvert_exporter": "python",
   "pygments_lexer": "ipython3",
   "version": "3.9.6"
  }
 },
 "nbformat": 4,
 "nbformat_minor": 5
}
