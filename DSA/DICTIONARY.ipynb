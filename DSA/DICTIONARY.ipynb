{
 "cells": [
  {
   "cell_type": "markdown",
   "id": "20775bb8",
   "metadata": {},
   "source": [
    "## Dictionary"
   ]
  },
  {
   "cell_type": "markdown",
   "id": "ae3e76e5",
   "metadata": {},
   "source": [
    "## Q1. Sum of all items in dictionary"
   ]
  },
  {
   "cell_type": "code",
   "execution_count": 2,
   "id": "c485a0ac",
   "metadata": {},
   "outputs": [
    {
     "name": "stdout",
     "output_type": "stream",
     "text": [
      "2000\n"
     ]
    }
   ],
   "source": [
    "def sumItems(dict):\n",
    "    sum = 0\n",
    "    for i in dict:\n",
    "        sum = sum + dict[i]\n",
    "    return sum\n",
    "\n",
    "dic = {\n",
    "    'a' : 500,\n",
    "    'b' : 300,\n",
    "    'c' : 1200\n",
    "}\n",
    "print(sumItems(dic))"
   ]
  },
  {
   "cell_type": "markdown",
   "id": "d762d815",
   "metadata": {},
   "source": [
    "## Q2. Delete a key from dictionary"
   ]
  },
  {
   "cell_type": "code",
   "execution_count": 4,
   "id": "2beba21d",
   "metadata": {},
   "outputs": [
    {
     "name": "stdout",
     "output_type": "stream",
     "text": [
      "{'a': 500, 'c': 1200}\n"
     ]
    }
   ],
   "source": [
    "def deleteKey(dic,key):\n",
    "    dic.pop(key)\n",
    "    return(dic)\n",
    "key = 'b'\n",
    "print(deleteKey(dic,key))"
   ]
  },
  {
   "cell_type": "code",
   "execution_count": 8,
   "id": "81fb5e35",
   "metadata": {},
   "outputs": [
    {
     "name": "stdout",
     "output_type": "stream",
     "text": [
      "{'a': 500, 'c': 1200, 'e': 2300, 'f': 2344}\n"
     ]
    }
   ],
   "source": [
    "def mergeDic(dic1,dic2):\n",
    "    dic.update(dic2)\n",
    "    return dic\n",
    "dic2 = {\n",
    "    'e' : 2300,\n",
    "    'f' : 2344\n",
    "}\n",
    "print(mergeDic(dic,dic2))"
   ]
  },
  {
   "cell_type": "markdown",
   "id": "5147742b",
   "metadata": {},
   "source": [
    "## Q3. Convert key value list to flat dictionary"
   ]
  },
  {
   "cell_type": "code",
   "execution_count": 12,
   "id": "b5973f56",
   "metadata": {},
   "outputs": [
    {
     "name": "stdout",
     "output_type": "stream",
     "text": [
      "{'Jan': 'a', 'feb': 'b', 'Mar': 'c', 'Apr': 'd'}\n"
     ]
    }
   ],
   "source": [
    "def convertDic(testDic):\n",
    "    return dict(zip(testDic['month'], testDic['name']))\n",
    "\n",
    "testDic = {\n",
    "    'month': ['Jan','feb','Mar','Apr'], \n",
    "    'name': ['a','b','c','d']\n",
    "}\n",
    "print(convertDic(testDic))"
   ]
  },
  {
   "cell_type": "markdown",
   "id": "5b96c52e",
   "metadata": {},
   "source": [
    "## Q4. Insertion at begining"
   ]
  },
  {
   "cell_type": "code",
   "execution_count": 13,
   "id": "7c23d607",
   "metadata": {},
   "outputs": [
    {
     "name": "stdout",
     "output_type": "stream",
     "text": [
      "{'manjeet': '4', 'akash': '4', 'akshat': '1', 'nikhil': '2'}\n"
     ]
    }
   ],
   "source": [
    "from collections import OrderedDict\n",
    "def insertBegin():\n",
    "    ini_dict1 = OrderedDict([('akshat', '1'), ('nikhil', '2')])\n",
    "    ini_dict2 = OrderedDict([(\"manjeet\", '4'), (\"akash\", '4')])\n",
    "    both = dict(list(ini_dict2.items()) + list(ini_dict1.items()))\n",
    "    print(str(both))\n",
    "insertBegin()"
   ]
  },
  {
   "cell_type": "code",
   "execution_count": null,
   "id": "ef179f64",
   "metadata": {},
   "outputs": [],
   "source": []
  }
 ],
 "metadata": {
  "kernelspec": {
   "display_name": "Python 3 (ipykernel)",
   "language": "python",
   "name": "python3"
  },
  "language_info": {
   "codemirror_mode": {
    "name": "ipython",
    "version": 3
   },
   "file_extension": ".py",
   "mimetype": "text/x-python",
   "name": "python",
   "nbconvert_exporter": "python",
   "pygments_lexer": "ipython3",
   "version": "3.9.6"
  }
 },
 "nbformat": 4,
 "nbformat_minor": 5
}
