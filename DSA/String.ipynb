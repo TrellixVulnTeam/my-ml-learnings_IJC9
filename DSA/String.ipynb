{
 "cells": [
  {
   "cell_type": "markdown",
   "id": "6154ecde",
   "metadata": {},
   "source": [
    "# STRING"
   ]
  },
  {
   "cell_type": "markdown",
   "id": "bff6338e",
   "metadata": {},
   "source": [
    "## Q1. Reverse String"
   ]
  },
  {
   "cell_type": "code",
   "execution_count": 6,
   "id": "2567c3ce",
   "metadata": {},
   "outputs": [
    {
     "name": "stdout",
     "output_type": "stream",
     "text": [
      "abc\n",
      "cba\n"
     ]
    }
   ],
   "source": [
    "def reverseString(str):\n",
    "    print(str[::-1])\n",
    "str = input()\n",
    "reverseString(str)"
   ]
  },
  {
   "cell_type": "code",
   "execution_count": null,
   "id": "3c9f0cc3",
   "metadata": {},
   "outputs": [],
   "source": []
  }
 ],
 "metadata": {
  "kernelspec": {
   "display_name": "Python 3 (ipykernel)",
   "language": "python",
   "name": "python3"
  },
  "language_info": {
   "codemirror_mode": {
    "name": "ipython",
    "version": 3
   },
   "file_extension": ".py",
   "mimetype": "text/x-python",
   "name": "python",
   "nbconvert_exporter": "python",
   "pygments_lexer": "ipython3",
   "version": "3.9.6"
  }
 },
 "nbformat": 4,
 "nbformat_minor": 5
}
